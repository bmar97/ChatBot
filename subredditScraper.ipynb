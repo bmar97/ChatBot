{
 "cells": [
  {
   "cell_type": "markdown",
   "metadata": {
    "datalore": {
     "hide_input_from_viewers": true,
     "hide_output_from_viewers": true,
     "node_id": "3SDUFXiKwg0V9QolX6C1pa",
     "type": "MD"
    }
   },
   "source": [
    "### Imports"
   ]
  },
  {
   "cell_type": "code",
   "execution_count": 1,
   "metadata": {
    "datalore": {
     "hide_input_from_viewers": true,
     "hide_output_from_viewers": true,
     "node_id": "zTyxi5axvFoutTUXZsn0zb",
     "type": "CODE"
    }
   },
   "outputs": [],
   "source": [
    "import praw\n",
    "import pandas as pd"
   ]
  },
  {
   "cell_type": "markdown",
   "metadata": {
    "datalore": {
     "hide_input_from_viewers": true,
     "hide_output_from_viewers": true,
     "node_id": "sObS0iYBEPDZjTsQm7cXTS",
     "type": "MD"
    }
   },
   "source": [
    "### Get Reddit data"
   ]
  },
  {
   "cell_type": "code",
   "execution_count": 2,
   "metadata": {
    "datalore": {
     "hide_input_from_viewers": true,
     "hide_output_from_viewers": true,
     "node_id": "LmD8IOlOTCbM5E9d7jWxpi",
     "type": "CODE"
    }
   },
   "outputs": [
    {
     "data": {
      "text/html": [
       "<div>\n",
       "<style scoped>\n",
       "    .dataframe tbody tr th:only-of-type {\n",
       "        vertical-align: middle;\n",
       "    }\n",
       "\n",
       "    .dataframe tbody tr th {\n",
       "        vertical-align: top;\n",
       "    }\n",
       "\n",
       "    .dataframe thead th {\n",
       "        text-align: right;\n",
       "    }\n",
       "</style>\n",
       "<table border=\"1\" class=\"dataframe\">\n",
       "  <thead>\n",
       "    <tr style=\"text-align: right;\">\n",
       "      <th></th>\n",
       "      <th>post_id</th>\n",
       "      <th>subreddit</th>\n",
       "      <th>created_utc</th>\n",
       "      <th>selftext</th>\n",
       "      <th>post_url</th>\n",
       "      <th>post_title</th>\n",
       "      <th>link_flair_text</th>\n",
       "      <th>score</th>\n",
       "      <th>num_comments</th>\n",
       "      <th>upvote_ratio</th>\n",
       "    </tr>\n",
       "  </thead>\n",
       "  <tbody>\n",
       "    <tr>\n",
       "      <th>0</th>\n",
       "      <td>gh1dj9</td>\n",
       "      <td>MachineLearning</td>\n",
       "      <td>1.589117e+09</td>\n",
       "      <td></td>\n",
       "      <td>https://v.redd.it/v492uoheuxx41</td>\n",
       "      <td>[Project] From books to presentations in 10s w...</td>\n",
       "      <td>Project</td>\n",
       "      <td>7868</td>\n",
       "      <td>187</td>\n",
       "      <td>0.99</td>\n",
       "    </tr>\n",
       "    <tr>\n",
       "      <th>1</th>\n",
       "      <td>kuc6tz</td>\n",
       "      <td>MachineLearning</td>\n",
       "      <td>1.610275e+09</td>\n",
       "      <td></td>\n",
       "      <td>https://v.redd.it/25nxi9ojfha61</td>\n",
       "      <td>[D] A Demo from 1993 of 32-year-old Yann LeCun...</td>\n",
       "      <td>Discussion</td>\n",
       "      <td>5905</td>\n",
       "      <td>134</td>\n",
       "      <td>0.98</td>\n",
       "    </tr>\n",
       "    <tr>\n",
       "      <th>2</th>\n",
       "      <td>g7nfvb</td>\n",
       "      <td>MachineLearning</td>\n",
       "      <td>1.587789e+09</td>\n",
       "      <td></td>\n",
       "      <td>https://v.redd.it/rlmmjm1q5wu41</td>\n",
       "      <td>[R] First Order Motion Model applied to animat...</td>\n",
       "      <td>Research</td>\n",
       "      <td>4780</td>\n",
       "      <td>111</td>\n",
       "      <td>0.97</td>\n",
       "    </tr>\n",
       "    <tr>\n",
       "      <th>3</th>\n",
       "      <td>lui92h</td>\n",
       "      <td>MachineLearning</td>\n",
       "      <td>1.614525e+09</td>\n",
       "      <td></td>\n",
       "      <td>https://v.redd.it/ikd5gjlbi8k61</td>\n",
       "      <td>[N] AI can turn old photos into moving Images ...</td>\n",
       "      <td>News</td>\n",
       "      <td>4714</td>\n",
       "      <td>231</td>\n",
       "      <td>0.97</td>\n",
       "    </tr>\n",
       "    <tr>\n",
       "      <th>4</th>\n",
       "      <td>ohxnts</td>\n",
       "      <td>MachineLearning</td>\n",
       "      <td>1.625977e+09</td>\n",
       "      <td></td>\n",
       "      <td>https://i.redd.it/34sgziebfia71.jpg</td>\n",
       "      <td>[D] This AI reveals how much time politicians ...</td>\n",
       "      <td>Discussion</td>\n",
       "      <td>4610</td>\n",
       "      <td>228</td>\n",
       "      <td>0.96</td>\n",
       "    </tr>\n",
       "    <tr>\n",
       "      <th>...</th>\n",
       "      <td>...</td>\n",
       "      <td>...</td>\n",
       "      <td>...</td>\n",
       "      <td>...</td>\n",
       "      <td>...</td>\n",
       "      <td>...</td>\n",
       "      <td>...</td>\n",
       "      <td>...</td>\n",
       "      <td>...</td>\n",
       "      <td>...</td>\n",
       "    </tr>\n",
       "    <tr>\n",
       "      <th>2982</th>\n",
       "      <td>vstdvk</td>\n",
       "      <td>artificial</td>\n",
       "      <td>1.657123e+09</td>\n",
       "      <td></td>\n",
       "      <td>https://mixed-news.com/en/metas-latest-open-so...</td>\n",
       "      <td>Meta's latest open source AI can translate 200...</td>\n",
       "      <td>News</td>\n",
       "      <td>85</td>\n",
       "      <td>8</td>\n",
       "      <td>0.95</td>\n",
       "    </tr>\n",
       "    <tr>\n",
       "      <th>2983</th>\n",
       "      <td>va8zw6</td>\n",
       "      <td>artificial</td>\n",
       "      <td>1.654989e+09</td>\n",
       "      <td></td>\n",
       "      <td>https://www.reddit.com/gallery/va8zw6</td>\n",
       "      <td>Can anyone tell me what website or program is ...</td>\n",
       "      <td>Question</td>\n",
       "      <td>85</td>\n",
       "      <td>14</td>\n",
       "      <td>0.93</td>\n",
       "    </tr>\n",
       "    <tr>\n",
       "      <th>2984</th>\n",
       "      <td>sw49j7</td>\n",
       "      <td>artificial</td>\n",
       "      <td>1.645255e+09</td>\n",
       "      <td></td>\n",
       "      <td>https://www.reddit.com/gallery/sw49j7</td>\n",
       "      <td>InspiroBot quotes used as AI text to image pro...</td>\n",
       "      <td>My project</td>\n",
       "      <td>83</td>\n",
       "      <td>7</td>\n",
       "      <td>0.92</td>\n",
       "    </tr>\n",
       "    <tr>\n",
       "      <th>2985</th>\n",
       "      <td>qg3w7q</td>\n",
       "      <td>artificial</td>\n",
       "      <td>1.635246e+09</td>\n",
       "      <td></td>\n",
       "      <td>https://www.reddit.com/r/artificial/comments/q...</td>\n",
       "      <td>Would it benefit society to replace politician...</td>\n",
       "      <td>Discussion</td>\n",
       "      <td>89</td>\n",
       "      <td>116</td>\n",
       "      <td>0.80</td>\n",
       "    </tr>\n",
       "    <tr>\n",
       "      <th>2986</th>\n",
       "      <td>oz4zew</td>\n",
       "      <td>artificial</td>\n",
       "      <td>1.628250e+09</td>\n",
       "      <td>Here's a list I made at the end of last year c...</td>\n",
       "      <td>https://www.reddit.com/r/artificial/comments/o...</td>\n",
       "      <td>The best AI papers of 2020 with a clear video ...</td>\n",
       "      <td>News</td>\n",
       "      <td>83</td>\n",
       "      <td>6</td>\n",
       "      <td>0.97</td>\n",
       "    </tr>\n",
       "  </tbody>\n",
       "</table>\n",
       "<p>2987 rows × 10 columns</p>\n",
       "</div>"
      ]
     },
     "metadata": {},
     "output_type": "display_data"
    }
   ],
   "source": [
    "def get_top_posts(subreddit_list='MachineLearning', limit=1000, time_filter='all'):\n",
    "\n",
    "    # Creat a read-only Reddit instant \n",
    "    reddit = praw.Reddit(client_id='Y71Q4eduaps7rkUBJFFN8w',\n",
    "                        client_secret='bZnZvPnUnkdyke3ngUnFIpWDFlil1A',\n",
    "                        redirect_uri='http://localhost:8080',\n",
    "                        user_agent='ChatBot97')\n",
    "\n",
    "    posts = reddit.subreddit(subreddit_list).top(time_filter=time_filter, limit=limit)\n",
    "\n",
    "    # Initialize post datafrae\n",
    "    posts_df = []\n",
    "\n",
    "    for post in posts:\n",
    "        posts_df.append({'post_id': post.id,\n",
    "                        'subreddit': post.subreddit,\n",
    "                        'created_utc': post.created_utc,\n",
    "                        'selftext': post.selftext,\n",
    "                        'post_url': post.url,\n",
    "                        'post_title': post.title,\n",
    "                        'link_flair_text': post.link_flair_text,\n",
    "                        'score': post.score,\n",
    "                        'num_comments': post.num_comments,\n",
    "                        'upvote_ratio': post.upvote_ratio\n",
    "                        })\n",
    "        \n",
    "    return pd.DataFrame(posts_df)\n",
    "\n",
    "posts_df = get_top_posts(subreddit_list='MachineLearning+ArtificialIntelligence+DataScience', limit=3000, time_filter='all')\n",
    "posts_df.to_csv('DS_ML_AI_posts.csv', header=True, index=False)\n",
    "posts_df"
   ]
  },
  {
   "cell_type": "markdown",
   "metadata": {
    "datalore": {
     "hide_input_from_viewers": true,
     "hide_output_from_viewers": true,
     "node_id": "JvaQjxHjyN7PKYDTmrP4cW",
     "type": "MD"
    }
   },
   "source": [
    "#### Get comments from posts"
   ]
  },
  {
   "cell_type": "code",
   "execution_count": 3,
   "metadata": {
    "datalore": {
     "hide_input_from_viewers": true,
     "hide_output_from_viewers": true,
     "node_id": "rpbaVZfuT9pqMViSWj6ojA",
     "type": "CODE"
    }
   },
   "outputs": [],
   "source": [
    "# Get comments on all posts\n",
    "comments_list = []\n",
    "\n",
    "reddit = praw.Reddit(client_id='Y71Q4eduaps7rkUBJFFN8w',\n",
    "                        client_secret='bZnZvPnUnkdyke3ngUnFIpWDFlil1A',\n",
    "                        redirect_uri='http://localhost:8080',\n",
    "                        user_agent='ChatBot97')\n",
    "\n",
    "for post_id in posts_df['post_id']:\n",
    "    submission = reddit.submission(post_id)\n",
    "\n",
    "    submission.comments.replace_more(limit=None)\n",
    "    for comment in submission.comments.list():\n",
    "        comments_list.append({'post_id': post_id, 'comment': comment.body})"
   ]
  },
  {
   "cell_type": "code",
   "execution_count": 5,
   "metadata": {
    "datalore": {
     "hide_input_from_viewers": true,
     "hide_output_from_viewers": true,
     "node_id": "jeBFsHk54HU4o9Qi2A6UFz",
     "type": "CODE"
    }
   },
   "outputs": [
    {
     "data": {
      "text/html": [
       "<div>\n",
       "<style scoped>\n",
       "    .dataframe tbody tr th:only-of-type {\n",
       "        vertical-align: middle;\n",
       "    }\n",
       "\n",
       "    .dataframe tbody tr th {\n",
       "        vertical-align: top;\n",
       "    }\n",
       "\n",
       "    .dataframe thead th {\n",
       "        text-align: right;\n",
       "    }\n",
       "</style>\n",
       "<table border=\"1\" class=\"dataframe\">\n",
       "  <thead>\n",
       "    <tr style=\"text-align: right;\">\n",
       "      <th></th>\n",
       "      <th>post_id</th>\n",
       "      <th>comment</th>\n",
       "    </tr>\n",
       "  </thead>\n",
       "  <tbody>\n",
       "    <tr>\n",
       "      <th>0</th>\n",
       "      <td>gh1dj9</td>\n",
       "      <td>Twitter thread: [https://twitter.com/cyrildiag...</td>\n",
       "    </tr>\n",
       "    <tr>\n",
       "      <th>1</th>\n",
       "      <td>gh1dj9</td>\n",
       "      <td>The future 🤯</td>\n",
       "    </tr>\n",
       "    <tr>\n",
       "      <th>2</th>\n",
       "      <td>gh1dj9</td>\n",
       "      <td>Simple yet very useful. Thank you for sharing ...</td>\n",
       "    </tr>\n",
       "    <tr>\n",
       "      <th>3</th>\n",
       "      <td>gh1dj9</td>\n",
       "      <td>Almost guaranteed, Apple will copy your idea i...</td>\n",
       "    </tr>\n",
       "    <tr>\n",
       "      <th>4</th>\n",
       "      <td>gh1dj9</td>\n",
       "      <td>Ohh the nightmare of making this into a stable...</td>\n",
       "    </tr>\n",
       "    <tr>\n",
       "      <th>...</th>\n",
       "      <td>...</td>\n",
       "      <td>...</td>\n",
       "    </tr>\n",
       "    <tr>\n",
       "      <th>230806</th>\n",
       "      <td>oz4zew</td>\n",
       "      <td>Invaluable indeed!</td>\n",
       "    </tr>\n",
       "    <tr>\n",
       "      <th>230807</th>\n",
       "      <td>oz4zew</td>\n",
       "      <td>Great work in putting this all together, hats ...</td>\n",
       "    </tr>\n",
       "    <tr>\n",
       "      <th>230808</th>\n",
       "      <td>oz4zew</td>\n",
       "      <td>This is wonderful! \\n\\nI want something like t...</td>\n",
       "    </tr>\n",
       "    <tr>\n",
       "      <th>230809</th>\n",
       "      <td>oz4zew</td>\n",
       "      <td>Thank you!</td>\n",
       "    </tr>\n",
       "    <tr>\n",
       "      <th>230810</th>\n",
       "      <td>oz4zew</td>\n",
       "      <td>Oh I would love that too! I am super into neur...</td>\n",
       "    </tr>\n",
       "  </tbody>\n",
       "</table>\n",
       "<p>230811 rows × 2 columns</p>\n",
       "</div>"
      ]
     },
     "metadata": {},
     "output_type": "display_data"
    }
   ],
   "source": [
    "# Creating a DF\n",
    "comments_df = pd.DataFrame(comments_list)\n",
    "comments_df.to_csv('comments.csv', header=True, index=False)\n",
    "comments_df"
   ]
  },
  {
   "cell_type": "markdown",
   "metadata": {},
   "source": [
    "#### Branndon Marion"
   ]
  }
 ],
 "metadata": {
  "datalore": {
   "base_environment": "default",
   "computation_mode": "JUPYTER",
   "package_manager": "pip",
   "packages": [
    {
     "name": "praw",
     "source": "PIP",
     "version": "7.7.0"
    },
    {
     "name": "wordcloud",
     "source": "PIP",
     "version": "1.8.2.2"
    },
    {
     "name": "emoji",
     "source": "PIP",
     "version": "2.2.0"
    },
    {
     "name": "llama-index",
     "source": "PIP",
     "version": "0.5.15"
    },
    {
     "name": "xclipboard",
     "source": "PIP",
     "version": "1.1"
    },
    {
     "name": "mc-xclip",
     "source": "PIP"
    }
   ],
   "report_row_ids": [],
   "version": 3
  },
  "kernelspec": {
   "display_name": "Python 3 (ipykernel)",
   "language": "python",
   "name": "python3"
  },
  "language_info": {
   "codemirror_mode": {
    "name": "ipython",
    "version": 3
   },
   "file_extension": ".py",
   "mimetype": "text/x-python",
   "name": "python",
   "nbconvert_exporter": "python",
   "pygments_lexer": "ipython3",
   "version": "3.10.9"
  }
 },
 "nbformat": 4,
 "nbformat_minor": 4
}
